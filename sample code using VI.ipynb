{
 "cells": [
  {
   "cell_type": "code",
   "execution_count": 1,
   "metadata": {},
   "outputs": [
    {
     "name": "stderr",
     "output_type": "stream",
     "text": [
      "WARNING (theano.configdefaults): g++ not available, if using conda: `conda install m2w64-toolchain`\n",
      "D:\\Anaconda2\\envs\\py36\\lib\\site-packages\\theano\\configdefaults.py:560: UserWarning: DeprecationWarning: there is no c++ compiler.This is deprecated and with Theano 0.11 a c++ compiler will be mandatory\n",
      "  warnings.warn(\"DeprecationWarning: there is no c++ compiler.\"\n",
      "WARNING (theano.configdefaults): g++ not detected ! Theano will be unable to execute optimized C-implementations (for both CPU and GPU) and will default to Python implementations. Performance will be severely degraded. To remove this warning, set Theano flags cxx to an empty string.\n",
      "WARNING (theano.tensor.blas): Using NumPy C-API based implementation for BLAS functions.\n",
      "D:\\Anaconda2\\envs\\py36\\lib\\site-packages\\h5py\\__init__.py:36: FutureWarning: Conversion of the second argument of issubdtype from `float` to `np.floating` is deprecated. In future, it will be treated as `np.float64 == np.dtype(float).type`.\n",
      "  from ._conv import register_converters as _register_converters\n",
      "Average Loss = 11.962:  78%|█████████████████████████████████████████            | 7750/10000 [00:31<00:09, 243.01it/s]\n",
      "Interrupted at 7,760 [77%]: Average Loss = 13.038\n"
     ]
    }
   ],
   "source": [
    "import pymc3 as pm\n",
    "from numpy import ones, array\n",
    "\n",
    "# Samples for each dose level\n",
    "n = 5 * ones(4, dtype=int)\n",
    "# Log-dose\n",
    "dose = array([-.86, -.3, -.05, .73])\n",
    "\n",
    "with pm.Model() as model:\n",
    "\n",
    "    # Logit-linear model parameters\n",
    "    alpha = pm.Normal('alpha', 0, sd=100.)\n",
    "    beta = pm.Normal('beta', 0, sd=1.)\n",
    "\n",
    "    # Calculate probabilities of death\n",
    "    theta = pm.Deterministic('theta', pm.math.invlogit(alpha + beta * dose))\n",
    "\n",
    "    # Data likelihood\n",
    "    deaths = pm.Binomial('deaths', n=n, p=theta, observed=[0, 1, 3, 5])\n",
    "\n",
    "\n",
    "def run(n=1000):\n",
    "    if n == \"short\":\n",
    "        n = 50\n",
    "    with model:\n",
    "        mean_field = pm.fit(method='advi')\n",
    "\n",
    "if __name__ == '__main__':\n",
    "    run()"
   ]
  },
  {
   "cell_type": "code",
   "execution_count": null,
   "metadata": {},
   "outputs": [],
   "source": []
  }
 ],
 "metadata": {
  "kernelspec": {
   "display_name": "Python 3",
   "language": "python",
   "name": "python3"
  },
  "language_info": {
   "codemirror_mode": {
    "name": "ipython",
    "version": 3
   },
   "file_extension": ".py",
   "mimetype": "text/x-python",
   "name": "python",
   "nbconvert_exporter": "python",
   "pygments_lexer": "ipython3",
   "version": "3.6.4"
  }
 },
 "nbformat": 4,
 "nbformat_minor": 2
}
